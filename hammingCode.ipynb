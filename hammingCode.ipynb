{
 "cells": [
  {
   "cell_type": "code",
   "execution_count": 87,
   "metadata": {},
   "outputs": [
    {
     "name": "stdout",
     "output_type": "stream",
     "text": [
      "Enter the length of the message 5\n",
      "R = 4 . (By 2^R >= 5 + R + 1)\n",
      "\n",
      "\n",
      "Enter binary code of message for sending 10101\n",
      "[[0 0 0 0]\n",
      " [0 0 0 1]\n",
      " [0 0 1 0]\n",
      " [0 0 1 1]\n",
      " [0 1 0 0]\n",
      " [0 1 0 1]\n",
      " [0 1 1 0]\n",
      " [0 1 1 1]\n",
      " [1 0 0 0]\n",
      " [1 0 0 1]\n",
      " [1 0 1 0]\n",
      " [1 0 1 1]\n",
      " [1 1 0 0]\n",
      " [1 1 0 1]\n",
      " [1 1 1 0]\n",
      " [1 1 1 1]]\n"
     ]
    }
   ],
   "source": [
    "import numpy as np\n",
    "if __name__=='__main__':\n",
    "    length = int(input(\"Enter the length of the message \"))\n",
    "    r=0\n",
    "    for i in range(1,20):\n",
    "        if (2**i >=i + length+1):\n",
    "            r=i\n",
    "            break;\n",
    "    print(\"R =\",r,\". (By 2^R >=\",length,\"+ R + 1)\");print()\n",
    "    message=input(\"\\nEnter binary code of message for sending \")\n",
    "#     eight=np.arange(8)\n",
    "    eight=[0,1,2,3,4,5,6,7]\n",
    "#     array=[[0]*r for i in range(2**r)]\n",
    "    array=np.zeros([2**r,r],dtype=int)\n",
    "    for j in range(1,r+1):\n",
    "        for i in range(len(array)):\n",
    "            if j==1 and i%2!=0:\n",
    "                array[i][-1]=1\n",
    "            if j==2 and (i%4 not in [0,1]):\n",
    "                array[i][-2]=1\n",
    "            if j==3 and (i%8 not in [0,1,2,3]):\n",
    "                array[i][-3]=1\n",
    "            if j==4 and (i%16 not in eight):\n",
    "                array[i][-4]=1\n",
    "    print(array)\n",
    "    \n",
    "    "
   ]
  },
  {
   "cell_type": "code",
   "execution_count": 88,
   "metadata": {},
   "outputs": [
    {
     "name": "stdout",
     "output_type": "stream",
     "text": [
      "message after adding parity as R is RR1R010R1\n",
      "after padding RR1R010R1000000\n"
     ]
    }
   ],
   "source": [
    "#adding r1, r2, r3, r4,.... in terms of R only\n",
    "for i in range(r):\n",
    "    message=message[:2**i-1]+'R'+message[2**i-1:]\n",
    "print(\"message after adding parity as R is\",message)  \n",
    "\n",
    "#padding zeros\n",
    "for j in range(len(message),2**r-1):\n",
    "    message+='0'\n",
    "print(\"after padding\",message)"
   ]
  },
  {
   "cell_type": "code",
   "execution_count": 89,
   "metadata": {},
   "outputs": [
    {
     "name": "stdout",
     "output_type": "stream",
     "text": [
      "[0, 2, 4, 6, 8, 10, 12, 14]\n",
      "[1, 2, 5, 6, 9, 10, 13, 14]\n",
      "[3, 4, 5, 6, 11, 12, 13, 14]\n",
      "[7, 8, 9, 10, 11, 12, 13, 14]\n",
      "message after replacing R  001101011000000 and parities are [0, 0, 1, 1]\n"
     ]
    }
   ],
   "source": [
    "#finding parity of R's and placing into message\n",
    "parity=[]\n",
    "parity_index=[]\n",
    "for col in range(1,r+1):\n",
    "    temp=[]\n",
    "    for row in range(2**r):\n",
    "        if (array[row][-col]==1):\n",
    "            temp.append(row-1)\n",
    "    parity_index.append(temp)\n",
    "#     print(temp)\n",
    "    #for finding parity\n",
    "    sum_par=0\n",
    "    for i in range(2**(r-1)):\n",
    "        if message[temp[i]] !='R':\n",
    "            sum_par+=int(message[temp[i]])\n",
    "\n",
    "    tt=2**(col-1) -1    #index for replacing R with in its even parity\n",
    "    if sum_par%2==0:\n",
    "        parity.append(0)\n",
    "        message=message[:tt]+'0'+message[tt+1:]\n",
    "    else:\n",
    "        parity.append(1)\n",
    "        message=message[:tt]+'1'+message[tt+1:]\n",
    "print(\"message after replacing R \",message,\"and parities are\",parity)  "
   ]
  },
  {
   "cell_type": "code",
   "execution_count": 91,
   "metadata": {},
   "outputs": [
    {
     "name": "stdout",
     "output_type": "stream",
     "text": [
      "001101011000000 has sent by sender.\n",
      "So, Enter the message of 9 length for checking errors 101101011000001\n",
      "\n",
      "result in form of binary is [1, 1, 1, 0]\n",
      "\n",
      "The error is at 14\n"
     ]
    }
   ],
   "source": [
    "# message & parity_index & parity\n",
    "print(message,\"has sent by sender.\") \n",
    "print(\"So, Enter the message of\",length+r,\"length for checking errors\",end=' ');check_message=input()\n",
    "result_bits=[]\n",
    "for x in range(r-1,-1,-1):  #for starting reverse parity checking\n",
    "    sum_par=0\n",
    "    for i in range(len(parity_index[0])):    \n",
    "        sum_par+= int(check_message[parity_index[x][i]])\n",
    "    result_bits.append(sum_par%2)\n",
    "print(\"\\nresult in form of binary is\",result_bits)\n",
    "if sum(result_bits)==0:\n",
    "    print(\"\\nThere is no any error of one bit\")\n",
    "else:  #for converting array of 0/1 into string and then into binary code \n",
    "    st=\"\".join(str(i) for i in result_bits)\n",
    "    print(\"\\nThe error is at\",int(st,2))#converting into int\n",
    "\n",
    "    \n"
   ]
  },
  {
   "cell_type": "code",
   "execution_count": null,
   "metadata": {},
   "outputs": [],
   "source": []
  },
  {
   "cell_type": "code",
   "execution_count": null,
   "metadata": {},
   "outputs": [],
   "source": []
  }
 ],
 "metadata": {
  "kernelspec": {
   "display_name": "Python 3",
   "language": "python",
   "name": "python3"
  },
  "language_info": {
   "codemirror_mode": {
    "name": "ipython",
    "version": 3
   },
   "file_extension": ".py",
   "mimetype": "text/x-python",
   "name": "python",
   "nbconvert_exporter": "python",
   "pygments_lexer": "ipython3",
   "version": "3.6.8"
  }
 },
 "nbformat": 4,
 "nbformat_minor": 4
}
